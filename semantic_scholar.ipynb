{
 "cells": [
  {
   "cell_type": "code",
   "execution_count": 82,
   "metadata": {},
   "outputs": [],
   "source": [
    "import pandas as pd\n",
    "\n",
    "import time\n",
    "\n",
    "import numpy as np\n",
    "import urllib.request, json "
   ]
  },
  {
   "cell_type": "code",
   "execution_count": 83,
   "metadata": {},
   "outputs": [],
   "source": [
    "keywords = ['coastal%20surge','texas','west','model']#'Rio%20Grande','estuarine','hydrodynamics'"
   ]
  },
  {
   "cell_type": "code",
   "execution_count": 84,
   "metadata": {},
   "outputs": [],
   "source": [
    "#results_url = \"https://api.semanticscholar.org/graph/v1/paper/search?query=\"+'+'.join(keywords)+\"&fields=title,citationCount\"\n",
    "results_url = \"https://api.semanticscholar.org/graph/v1/paper/search?query=\"+'+'.join(keywords)+\"&fields=title,url,abstract,year,authors,citationCount\""
   ]
  },
  {
   "cell_type": "code",
   "execution_count": 85,
   "metadata": {},
   "outputs": [
    {
     "name": "stdout",
     "output_type": "stream",
     "text": [
      "424\n"
     ]
    }
   ],
   "source": [
    "total_number = 0\n",
    "with urllib.request.urlopen(results_url) as url:\n",
    "    data = json.load(url)\n",
    "    total_number = data['total']\n",
    "    print(data['total'])\n",
    "\n",
    "count_offset = 0\n",
    "total_data = np.array([])\n",
    "while count_offset<total_number:\n",
    "    this_results_url=results_url+'&offset='+str(count_offset)+'&limit=100'\n",
    "    #this_results_url=results_url+'&offset='+str(count_offset)+'&limit=5'#'&limit=100'\n",
    "    with urllib.request.urlopen(this_results_url) as url:\n",
    "        data = json.load(url)\n",
    "        total_data=np.append(total_data,np.array(data['data']).reshape(-1))\n",
    "    count_offset +=100\n",
    "    #count_offset +=5\n",
    "\n"
   ]
  },
  {
   "cell_type": "code",
   "execution_count": 86,
   "metadata": {},
   "outputs": [
    {
     "name": "stdout",
     "output_type": "stream",
     "text": [
      "424\n"
     ]
    }
   ],
   "source": [
    "print(len(total_data))"
   ]
  },
  {
   "cell_type": "code",
   "execution_count": 87,
   "metadata": {},
   "outputs": [],
   "source": [
    "paper_id_list = []\n",
    "url_list = []\n",
    "title_list = []\n",
    "abstract_list = []\n",
    "authors_list = []\n",
    "year_list = []\n",
    "citationCount_list = []\n",
    "\n",
    "for this_paper in total_data:\n",
    "    paper_id_list.append(this_paper['paperId'])\n",
    "    url_list.append(this_paper['url'])\n",
    "    title_list.append(this_paper['title'])\n",
    "    abstract_list.append(this_paper['abstract'])\n",
    "    authors_list.append(this_paper['authors'])\n",
    "    year_list.append(this_paper['year'])\n",
    "    citationCount_list.append(this_paper['citationCount'])"
   ]
  },
  {
   "cell_type": "code",
   "execution_count": 88,
   "metadata": {},
   "outputs": [],
   "source": [
    "paper_repos_dict = {\n",
    "                    'title' : [],\n",
    "                    'abstract' : [],\n",
    "                    'year' : [] ,\n",
    "                    'citationCount':[],                    \n",
    "                    'url' : [],                   \n",
    "                    'paperId' : [],\n",
    "                    'authors' : []}\n",
    "\n",
    "paper_repos_dict['paperId']=paper_id_list\n",
    "paper_repos_dict['url']=url_list\n",
    "paper_repos_dict['title']=title_list\n",
    "paper_repos_dict['abstract']=abstract_list\n",
    "paper_repos_dict['authors']=authors_list\n",
    "paper_repos_dict['year']=year_list\n",
    "paper_repos_dict['citationCount']=citationCount_list\n",
    "\n",
    "this_paper_sum = pd.DataFrame(paper_repos_dict)"
   ]
  },
  {
   "cell_type": "code",
   "execution_count": 89,
   "metadata": {},
   "outputs": [],
   "source": [
    "this_paper_sum.to_csv('/Users/vivianhuang/Desktop/CHG/'+'_'.join(keywords)+'.csv', sep=',', index=False,header=True)"
   ]
  }
 ],
 "metadata": {
  "kernelspec": {
   "display_name": "analysis",
   "language": "python",
   "name": "python3"
  },
  "language_info": {
   "codemirror_mode": {
    "name": "ipython",
    "version": 3
   },
   "file_extension": ".py",
   "mimetype": "text/x-python",
   "name": "python",
   "nbconvert_exporter": "python",
   "pygments_lexer": "ipython3",
   "version": "3.11.0"
  },
  "orig_nbformat": 4
 },
 "nbformat": 4,
 "nbformat_minor": 2
}
